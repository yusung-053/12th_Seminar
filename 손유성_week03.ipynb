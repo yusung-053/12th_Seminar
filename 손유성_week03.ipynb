{
  "nbformat": 4,
  "nbformat_minor": 0,
  "metadata": {
    "colab": {
      "provenance": [],
      "toc_visible": true,
      "include_colab_link": true
    },
    "kernelspec": {
      "name": "python3",
      "display_name": "Python 3"
    },
    "language_info": {
      "name": "python"
    }
  },
  "cells": [
    {
      "cell_type": "markdown",
      "metadata": {
        "id": "view-in-github",
        "colab_type": "text"
      },
      "source": [
        "<a href=\"https://colab.research.google.com/github/yusung-053/12th_Seminar/blob/week03/%EC%86%90%EC%9C%A0%EC%84%B1_week03.ipynb\" target=\"_parent\"><img src=\"https://colab.research.google.com/assets/colab-badge.svg\" alt=\"Open In Colab\"/></a>"
      ]
    },
    {
      "cell_type": "markdown",
      "source": [
        "# 회귀분석 실습"
      ],
      "metadata": {
        "id": "IKMAhMh_U9bC"
      }
    },
    {
      "cell_type": "code",
      "source": [
        "import numpy as np\n",
        "import pandas as pd\n",
        "import matplotlib.pyplot as plt\n",
        "from sklearn.model_selection import train_test_split\n",
        "from sklearn.linear_model import LinearRegression\n",
        "from sklearn.metrics import mean_squared_error, r2_score\n",
        "\n",
        "# 1. 데이터 생성\n",
        "np.random.seed(42)\n",
        "X1 = 5 * np.random.rand(100, 1)   # 광고비\n",
        "X2 = 3 * np.random.rand(100, 1)   # 판촉비\n",
        "y = 2 + 1.5 * X1 + 0.8 * X2 + np.random.randn(100, 1)  # 판매수량\n",
        "\n",
        "# 단순 회귀용 (광고비만 사용)\n",
        "X_simple = X1\n",
        "\n",
        "# 다중 회귀용 (광고비 + 판촉비)\n",
        "X_multi = np.hstack([X1, X2])\n",
        "\n",
        "# 2. 데이터 분할\n",
        "X_train_s, X_test_s, y_train_s, y_test_s = train_test_split(X_simple, y, test_size=0.3, random_state=0)\n",
        "X_train_m, X_test_m, y_train_m, y_test_m = train_test_split(X_multi, y, test_size=0.3, random_state=0)\n",
        "\n",
        "# 3. 모델 학습\n",
        "lin_reg_s = LinearRegression().fit(X_train_s, y_train_s)   # 단순 회귀\n",
        "lin_reg_m = LinearRegression().fit(X_train_m, y_train_m)   # 다중 회귀\n",
        "\n",
        "# 4. 성능 평가\n",
        "print(\"단순 회귀\")\n",
        "print(\"Train R²:\", lin_reg_s.score(X_train_s, y_train_s))\n",
        "print(\"Test R²:\", lin_reg_s.score(X_test_s, y_test_s))\n",
        "print(\"\\n다중 회귀\")\n",
        "print(\"Train R²:\", lin_reg_m.score(X_train_m, y_train_m))\n",
        "print(\"Test R²:\", lin_reg_m.score(X_test_m, y_test_m))\n",
        "\n"
      ],
      "metadata": {
        "colab": {
          "base_uri": "https://localhost:8080/"
        },
        "id": "kMTu-Yeu3hTY",
        "outputId": "e64bbaa2-e63d-449f-ed8e-d8b872912c67"
      },
      "execution_count": null,
      "outputs": [
        {
          "output_type": "stream",
          "name": "stdout",
          "text": [
            "단순 회귀\n",
            "Train R²: 0.7043948359679164\n",
            "Test R²: 0.7035794263926065\n",
            "\n",
            "다중 회귀\n",
            "Train R²: 0.8443200917094444\n",
            "Test R²: 0.8302568569357736\n"
          ]
        }
      ]
    },
    {
      "cell_type": "markdown",
      "source": [
        "Q1. 출력된 R² 값을 보고, 어떤 모델이 데이터를 더 잘 설명하는지 판단하고 그 이유를 쓰시오."
      ],
      "metadata": {
        "id": "gmIqC_V14NVc"
      }
    },
    {
      "cell_type": "markdown",
      "source": [
        "A. 결정계수값이 다중회귀가 더 높다. 다중회귀모델이 데이터를 더 잘 설명한다.\n"
      ],
      "metadata": {
        "id": "klJZT9R24ScE"
      }
    },
    {
      "cell_type": "code",
      "source": [
        "import numpy as np\n",
        "import matplotlib.pyplot as plt\n",
        "from sklearn.model_selection import train_test_split\n",
        "from sklearn.preprocessing import PolynomialFeatures\n",
        "from sklearn.linear_model import LinearRegression\n",
        "from sklearn.metrics import r2_score\n",
        "\n",
        "# 1. 데이터 생성 (비선형 데이터)\n",
        "np.random.seed(42)\n",
        "X = np.sort(5 * np.random.rand(80, 1), axis=0)\n",
        "y = np.sin(X).ravel() + 0.3 * np.random.randn(80)\n",
        "\n",
        "# 2. 데이터 분할\n",
        "X_train, X_test, y_train, y_test = train_test_split(X, y, test_size=0.3, random_state=42)\n",
        "\n",
        "# 3. 모델 정의 (저차 다항 vs 고차 다항)\n",
        "degrees = [1, 3, 15]  # 1차, 3차, 15차\n",
        "results = {}\n",
        "\n",
        "for d in degrees:\n",
        "    poly = PolynomialFeatures(degree=d)\n",
        "    X_train_poly = poly.fit_transform(X_train)\n",
        "    X_test_poly = poly.transform(X_test)\n",
        "\n",
        "    model = LinearRegression().fit(X_train_poly, y_train)\n",
        "\n",
        "    results[d] = {\n",
        "        \"train_r2\": model.score(X_train_poly, y_train),\n",
        "        \"test_r2\": model.score(X_test_poly, y_test)\n",
        "    }\n",
        "    # 시각화\n",
        "    X_range = np.linspace(0, 5, 100).reshape(-1, 1)\n",
        "    X_range_poly = poly.transform(X_range)\n",
        "    plt.plot(X_range, model.predict(X_range_poly), label=f\"degree={d}\")\n",
        "\n",
        "# 원래 데이터\n",
        "plt.scatter(X_train, y_train, color=\"blue\", alpha=0.6, label=\"Train Data\")\n",
        "plt.scatter(X_test, y_test, color=\"red\", alpha=0.6, label=\"Test Data\")\n",
        "plt.title(\"Polynomial Regression: Underfitting vs Overfitting\")\n",
        "plt.legend()\n",
        "plt.show()\n",
        "\n",
        "print(\"R² 결과:\")\n",
        "for d, scores in results.items():\n",
        "    print(f\"degree={d} → Train R² = {scores['train_r2']:.4f}, Test R² = {scores['test_r2']:.4f}\")\n"
      ],
      "metadata": {
        "colab": {
          "base_uri": "https://localhost:8080/",
          "height": 525
        },
        "id": "L7sXCZBT3V8b",
        "outputId": "05016163-7cef-494a-d7e0-6a17ca460e53"
      },
      "execution_count": null,
      "outputs": [
        {
          "output_type": "display_data",
          "data": {
            "text/plain": [
              "<Figure size 640x480 with 1 Axes>"
            ],
            "image/png": "[encoded data removed]"
          },
          "metadata": {}
        },
        {
          "output_type": "stream",
          "name": "stdout",
          "text": [
            "R² 결과:\n",
            "degree=1 → Train R² = 0.6717, Test R² = 0.3171\n",
            "degree=3 → Train R² = 0.8688, Test R² = 0.8064\n",
            "degree=15 → Train R² = 0.8785, Test R² = 0.7876\n"
          ]
        }
      ]
    },
    {
      "cell_type": "markdown",
      "source": [
        "Q2. 위 실험에서 어떤 모델이 가장 적절한지 이유와 함께 설명하시오."
      ],
      "metadata": {
        "id": "F975iD5M3pfN"
      }
    },
    {
      "cell_type": "markdown",
      "source": [
        "A.degree=15일때 가장 결정계수값이 높다. 따라서 degree=15인 다중회귀모델이 가장 적절하다."
      ],
      "metadata": {
        "id": "6-6SHFvQ3yal"
      }
    },
    {
      "cell_type": "code",
      "source": [
        "# 라이브러리 불러오기\n",
        "import numpy as np\n",
        "import matplotlib.pyplot as plt\n",
        "from sklearn.model_selection import train_test_split\n",
        "from sklearn.preprocessing import PolynomialFeatures\n",
        "from sklearn.linear_model import LinearRegression, Ridge, Lasso\n",
        "\n",
        "#1. 데이터 생성\n",
        "np.random.seed(10)\n",
        "X = np.sort(5 * np.random.rand(30, 1), axis=0)\n",
        "y = np.sin(X).ravel() + 0.5 * np.random.randn(30)\n",
        "\n",
        "#2. 데이터 분할\n",
        "X_train, X_test, y_train, y_test = train_test_split(X, y, test_size=0.3, random_state=10)\n",
        "\n",
        "#3. 다항식 변환\n",
        "poly = PolynomialFeatures(degree=10)\n",
        "X_train_poly = poly.fit_transform(X_train)\n",
        "X_test_poly = poly.transform(X_test)\n",
        "\n",
        "#4. 모델 학습 및 평가\n",
        "models = {\n",
        "    \"Polynomial Regression\": LinearRegression(),\n",
        "    \"Ridge Regression\": Ridge(alpha=1.0),\n",
        "    \"Lasso Regression\": Lasso(alpha=1.0)\n",
        "}\n",
        "\n",
        "for name, model in models.items():\n",
        "    model.fit(X_train_poly, y_train)\n",
        "    print(f\"{name}: Train R² = {model.score(X_train_poly, y_train):.4f}, Test R² = {model.score(X_test_poly, y_test):.4f}\")\n"
      ],
      "metadata": {
        "colab": {
          "base_uri": "https://localhost:8080/"
        },
        "id": "nIZ3gl0h3Rxx",
        "outputId": "bb92f669-38cf-4713-bc8a-dd27e66661be"
      },
      "execution_count": null,
      "outputs": [
        {
          "output_type": "stream",
          "name": "stdout",
          "text": [
            "Polynomial Regression: Train R² = 0.9393, Test R² = 0.3196\n",
            "Ridge Regression: Train R² = 0.8947, Test R² = 0.6201\n",
            "Lasso Regression: Train R² = 0.7491, Test R² = 0.5557\n"
          ]
        },
        {
          "output_type": "stream",
          "name": "stderr",
          "text": [
            "/usr/local/lib/python3.12/dist-packages/sklearn/linear_model/_coordinate_descent.py:695: ConvergenceWarning: Objective did not converge. You might want to increase the number of iterations, check the scale of the features or consider increasing regularisation. Duality gap: 1.385e+00, tolerance: 1.027e-03\n",
            "  model = cd_fast.enet_coordinate_descent(\n"
          ]
        }
      ]
    },
    {
      "cell_type": "markdown",
      "source": [
        "Q3. 위 결과에서 Polynomial Regression 모델이 보이는 현상을 무엇이라고 하며, 그 이유를 설명하시오."
      ],
      "metadata": {
        "id": "_sMr6O6733K3"
      }
    },
    {
      "cell_type": "markdown",
      "source": [
        "A. 훈련셋의 결정계수값이 테스트셋 결정계수값과 비교하여 너무 높다. 즉, 오버피팅이 발생하였다."
      ],
      "metadata": {
        "id": "rcyHUHI53-GW"
      }
    },
    {
      "cell_type": "markdown",
      "source": [
        "#분류(classification) 실습"
      ],
      "metadata": {
        "id": "WmC_1dZlV6z5"
      }
    },
    {
      "cell_type": "code",
      "source": [
        "#라이브러리 불러오기\n",
        "import pandas as pd\n",
        "from sklearn.datasets import load_iris\n",
        "from sklearn.model_selection import train_test_split\n",
        "from sklearn.metrics import accuracy_score, classification_report\n",
        "\n",
        "#분류 모델 라이브러리\n",
        "from sklearn.linear_model import LogisticRegression\n",
        "from sklearn.neighbors import KNeighborsClassifier\n",
        "from sklearn.svm import SVC\n",
        "from sklearn.tree import DecisionTreeClassifier\n",
        "from sklearn.ensemble import RandomForestClassifier"
      ],
      "metadata": {
        "id": "BBfZai0pWBlZ"
      },
      "execution_count": null,
      "outputs": []
    },
    {
      "cell_type": "code",
      "source": [
        "#1. 데이터 불러오기\n",
        "iris = load_iris()\n",
        "X = iris.data\n",
        "y = iris.target #꽃의 특성들(X)을 이용해서 꽃의 품종(y)을 결정\n",
        "\n",
        "iris_df = pd.DataFrame(X, columns = iris.feature_names)\n",
        "iris_df['species']=y\n",
        "print(iris_df.head())\n",
        "print(\"\\n\")\n",
        "\n",
        "#2. 훈련 데이터와 테스트 데이터 분할\n",
        "X_train, X_test, y_train, y_test = train_test_split(X, y, test_size=0.2, random_state=123)\n",
        "print(f\"훈련 데이터 개수 : {X_train.shape}, 테스트 데이터 개수 : {X_test.shape}\\n\")\n",
        "\n",
        "#3. 사용할 모델 정의\n",
        "models = {\n",
        "    \"로지스틱 회귀\" : LogisticRegression(max_iter=1000),\n",
        "    \"K-최근접 이웃(KNN)\" : KNeighborsClassifier(n_neighbors=5),\n",
        "    \"의사결정나무\" : DecisionTreeClassifier(random_state=123),\n",
        "    \"랜덤 포레스트\" : RandomForestClassifier(n_estimators=100, random_state=123)\n",
        "}"
      ],
      "metadata": {
        "colab": {
          "base_uri": "https://localhost:8080/"
        },
        "id": "Q4ZjbVxqWGli",
        "outputId": "7352fdc0-0f94-420c-eb5b-0b53150c548e"
      },
      "execution_count": null,
      "outputs": [
        {
          "output_type": "stream",
          "name": "stdout",
          "text": [
            "   sepal length (cm)  sepal width (cm)  petal length (cm)  petal width (cm)  \\\n",
            "0                5.1               3.5                1.4               0.2   \n",
            "1                4.9               3.0                1.4               0.2   \n",
            "2                4.7               3.2                1.3               0.2   \n",
            "3                4.6               3.1                1.5               0.2   \n",
            "4                5.0               3.6                1.4               0.2   \n",
            "\n",
            "   species  \n",
            "0        0  \n",
            "1        0  \n",
            "2        0  \n",
            "3        0  \n",
            "4        0  \n",
            "\n",
            "\n",
            "훈련 데이터 개수 : (120, 4), 테스트 데이터 개수 : (30, 4)\n",
            "\n"
          ]
        }
      ]
    },
    {
      "cell_type": "code",
      "source": [
        "#4.모델 학습 및 성능 평가\n",
        "results = {}\n",
        "for name, model in models.items():\n",
        "\n",
        "    model.fit(X_train, y_train) #모델 학습\n",
        "\n",
        "    y_pred = model.predict(X_test) #예측\n",
        "\n",
        "    #성능 평가\n",
        "    report = classification_report(y_test, y_pred, target_names=iris.target_names)\n",
        "    print(f\" 모델: {name}\")\n",
        "    print(report)"
      ],
      "metadata": {
        "colab": {
          "base_uri": "https://localhost:8080/"
        },
        "id": "EsoXJ628ZBWO",
        "outputId": "35abc9db-b54d-47ca-cae4-c03305ba19c7"
      },
      "execution_count": null,
      "outputs": [
        {
          "output_type": "stream",
          "name": "stdout",
          "text": [
            " 모델: 로지스틱 회귀\n",
            "              precision    recall  f1-score   support\n",
            "\n",
            "      setosa       1.00      1.00      1.00        13\n",
            "  versicolor       1.00      1.00      1.00         6\n",
            "   virginica       1.00      1.00      1.00        11\n",
            "\n",
            "    accuracy                           1.00        30\n",
            "   macro avg       1.00      1.00      1.00        30\n",
            "weighted avg       1.00      1.00      1.00        30\n",
            "\n",
            " 모델: K-최근접 이웃(KNN)\n",
            "              precision    recall  f1-score   support\n",
            "\n",
            "      setosa       1.00      1.00      1.00        13\n",
            "  versicolor       1.00      0.83      0.91         6\n",
            "   virginica       0.92      1.00      0.96        11\n",
            "\n",
            "    accuracy                           0.97        30\n",
            "   macro avg       0.97      0.94      0.96        30\n",
            "weighted avg       0.97      0.97      0.97        30\n",
            "\n",
            " 모델: 의사결정나무\n",
            "              precision    recall  f1-score   support\n",
            "\n",
            "      setosa       1.00      1.00      1.00        13\n",
            "  versicolor       0.86      1.00      0.92         6\n",
            "   virginica       1.00      0.91      0.95        11\n",
            "\n",
            "    accuracy                           0.97        30\n",
            "   macro avg       0.95      0.97      0.96        30\n",
            "weighted avg       0.97      0.97      0.97        30\n",
            "\n",
            " 모델: 랜덤 포레스트\n",
            "              precision    recall  f1-score   support\n",
            "\n",
            "      setosa       1.00      1.00      1.00        13\n",
            "  versicolor       0.75      1.00      0.86         6\n",
            "   virginica       1.00      0.82      0.90        11\n",
            "\n",
            "    accuracy                           0.93        30\n",
            "   macro avg       0.92      0.94      0.92        30\n",
            "weighted avg       0.95      0.93      0.93        30\n",
            "\n"
          ]
        }
      ]
    },
    {
      "cell_type": "markdown",
      "source": [
        "Q1. 정밀도(precision), 재현율(recall)이 낮다는 것은 각각 무엇을 의미하는 것인지 작성하시오."
      ],
      "metadata": {
        "id": "PTZyu-hkjwVl"
      }
    },
    {
      "cell_type": "markdown",
      "source": [
        "A : 정밀도는 모델이 positive라고 예측한 것 중, 실제로 positive인 것의 비율을 나타낸것이다. 정밀도가 낮다는건 TP가 낮다는 것이므로, 모델의 positive 예측도가 낮다는 것이다. 재현율은 실제로 참인 사례 중 정말로 참인 것의 비율을 나타낸 것이다. 재현율이 낮다는건 실제 positive인 것을 제대로 찾지 못한 것이다."
      ],
      "metadata": {
        "id": "G09DRcF_lV1B"
      }
    },
    {
      "cell_type": "code",
      "source": [],
      "metadata": {
        "id": "_CB-Uz-zHrxr"
      },
      "execution_count": null,
      "outputs": []
    },
    {
      "cell_type": "markdown",
      "source": [
        "Q2. 위 코드의 결과를 보고 의사결정나무 모델에서 예측을 가장 어려워하는 품종이 무엇이고, 그렇게 생각한 이유를 적으시오."
      ],
      "metadata": {
        "id": "5k7lPnT_lZMh"
      }
    },
    {
      "cell_type": "markdown",
      "source": [
        "A :f1값이 가장 낮은 versicolor품종을 가장 어려워한다."
      ],
      "metadata": {
        "id": "4SnUJnX9oPvG"
      }
    }
  ]
}